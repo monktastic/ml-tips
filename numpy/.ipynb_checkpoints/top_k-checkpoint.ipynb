{
 "cells": [
  {
   "cell_type": "code",
   "execution_count": 1,
   "metadata": {
    "collapsed": true
   },
   "outputs": [],
   "source": [
    "import tensorflow as tf\n",
    "import numpy as np\n",
    "\n",
    "# Given an array of 'true' values and 'pred'icted values, determine whether the\n",
    "# highest pred value(s) are in the same position as any of the k highest true\n",
    "# values.\n",
    "\n",
    "# For example, if true is [1, 4, 8, 9] and pred is [1, 0, 1, 1], then the top pred\n",
    "# indices are (0, 2, 3). Index 3 matches the top true value; index 2 matches the\n",
    "# second highest, and index 0 matches the fourth. To the question \"do any of the\n",
    "# top pred positions match the 1 biggest true?\" is yes.\n",
    "\n",
    "# If pred were [0, 1, 0, 0], then its top position only matches 4 from true, which\n",
    "# is the 3rd highest value. So the answer to \"do any of the top pred positions match \n",
    "# the 3 biggest true?\" is yes.\n",
    "\n",
    "# We want to run multiple tests at once. Given an array of true arrays, and a\n",
    "# corresponding array of predicted arrays, and a k representing the question\n",
    "# \"are any of your top answers amongst the true top k?\", return an array of\n",
    "# answers."
   ]
  },
  {
   "cell_type": "code",
   "execution_count": 115,
   "metadata": {
    "collapsed": true
   },
   "outputs": [],
   "source": [
    "true = np.array([[0, 0, 0, 2],\n",
    "                 [1, 0, 1, 2],\n",
    "                 [0, 0, 1, 0],\n",
    "                 [0, 1, 0, 1]])\n",
    "\n",
    "pred = np.array([[4, 6, 2, 7],  # True for k = 1+\n",
    "                 [1, 4, 8, 9],  # True for k = 1+\n",
    "                 [8, 2, 4, 3],  # True for k = 2+\n",
    "                 [6, 2, 7, 1]]) # True for k = 3+"
   ]
  },
  {
   "cell_type": "code",
   "execution_count": 141,
   "metadata": {},
   "outputs": [],
   "source": [
    "def select_indices(arrays, indices):\n",
    "    # Given a 2D array, select the given indices from them.\n",
    "    # For example, given:\n",
    "    # [[True, True, False],\n",
    "    #  [False, False, True]]\n",
    "    #\n",
    "    # [[0, 1],  # Select indices 0 and 1 from first array\n",
    "    #  [1, 2]]  # 1 and 2 from second\n",
    "    #\n",
    "    # Result:\n",
    "    # [[True, True],\n",
    "    #  [False, True]]\n",
    "    #\n",
    "    # Because obviously.\n",
    "    return arrays[np.arange(arrays.shape[0]), indices.transpose()].transpose()\n",
    "\n",
    "a = np.array([[True, True, False], [False, False, True]])\n",
    "b = np.array([[0, 1], [1, 2]])\n",
    "selected = select_indices(a, b)\n",
    "assert np.array_equal(np.array([[True, True], [False, True]]), selected)\n",
    "\n",
    "def in_top_k(true, pred, k=2):\n",
    "    # Get top k indices from pred. Would you figure this out from the doc?\n",
    "    # https://docs.scipy.org/doc/numpy/reference/generated/numpy.argpartition.html\n",
    "    #\n",
    "    # \"Perform an indirect partition along the given axis using the algorithm \n",
    "    # specified by the kind keyword. It returns an array of indices of the \n",
    "    # same shape as a that index data along the given axis in partitioned order.\"\n",
    "    #\n",
    "    # I found it via SO: https://stackoverflow.com/a/23734295/5175433\n",
    "    top_idx = np.argpartition(pred, -k)[:, -k:]        \n",
    "\n",
    "    # Using TF:\n",
    "    # with tf.Session() as sess:\n",
    "    #   pred_var = tf.constant(pred)\n",
    "    #   true_var = tf.constant(true)\n",
    "    #   _, top_idx = tf.nn.top_k(pred_var, k, sorted=True)\n",
    "    #   top_idx = sess.run(top_idx)\n",
    "\n",
    "    # For each array in `true`, we want to replace each value with \n",
    "    # a bool indicating if it's the (/a) max value. For example, [0 1 2 2] should\n",
    "    # become [False False True True].\n",
    "    # First find the max values.\n",
    "    true_max = true.max(axis=1)\n",
    "    # Turn it into a 2D array.\n",
    "    # Note that this can also be done by taking the slice true_max[:, None]\n",
    "    true_max = np.expand_dims(true_max, 1)\n",
    "    # Now compare each element in true with its max. true_max has shape\n",
    "    # (n, 1), while true is (n, m). This will use broadcasting.\n",
    "    true_max = true == true_max\n",
    "\n",
    "    # From true_max, select out the indices that were top k in pred (top_idx).\n",
    "    # If any of those are True (which we'll check later), then we're good.\n",
    "    return select_indices(true_max, top_idx)\n",
    "\n",
    "def _in_top_k(true, pred, k=2):\n",
    "    tops = in_top_k(true, pred, k)\n",
    "    return np.any((tops[:, :k]), axis=1)"
   ]
  },
  {
   "cell_type": "code",
   "execution_count": 142,
   "metadata": {},
   "outputs": [],
   "source": [
    "# A correct category appeared amongst top 1\n",
    "top = _in_top_k(true, pred, k=1)\n",
    "assert np.array_equal([True, True, False, False], top)\n",
    "\n",
    "# A correct category appeared amongst top 2\n",
    "top = _in_top_k(true, pred, k=2)\n",
    "assert np.array_equal([True, True, True, False], top)\n",
    "\n",
    "# A correct category appeared amongst top 3\n",
    "top = _in_top_k(true, pred, k=3)\n",
    "assert np.array_equal([True, True, True, True], top)"
   ]
  },
  {
   "cell_type": "code",
   "execution_count": null,
   "metadata": {
    "collapsed": true
   },
   "outputs": [],
   "source": []
  }
 ],
 "metadata": {
  "kernelspec": {
   "display_name": "Python 2",
   "language": "python",
   "name": "python2"
  },
  "language_info": {
   "codemirror_mode": {
    "name": "ipython",
    "version": 2
   },
   "file_extension": ".py",
   "mimetype": "text/x-python",
   "name": "python",
   "nbconvert_exporter": "python",
   "pygments_lexer": "ipython2",
   "version": "2.7.13"
  }
 },
 "nbformat": 4,
 "nbformat_minor": 2
}
